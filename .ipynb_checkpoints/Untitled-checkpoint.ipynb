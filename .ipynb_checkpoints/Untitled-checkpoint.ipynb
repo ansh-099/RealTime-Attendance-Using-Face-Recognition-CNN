{
 "cells": [
  {
   "cell_type": "code",
   "execution_count": null,
   "metadata": {},
   "outputs": [],
   "source": []
  },
  {
   "cell_type": "code",
   "execution_count": null,
   "metadata": {},
   "outputs": [],
   "source": []
  },
  {
   "cell_type": "code",
   "execution_count": 2,
   "metadata": {},
   "outputs": [
    {
     "name": "stdout",
     "output_type": "stream",
     "text": [
      "2020-03-11\n",
      "All people []\n",
      "(300, 30000)\n",
      "<class 'numpy.ndarray'>\n"
     ]
    },
    {
     "ename": "ValueError",
     "evalue": "all the input array dimensions for the concatenation axis must match exactly, but along dimension 0, the array at index 0 has size 300 and the array at index 1 has size 30",
     "output_type": "error",
     "traceback": [
      "\u001b[0;31m---------------------------------------------------------------------------\u001b[0m",
      "\u001b[0;31mValueError\u001b[0m                                Traceback (most recent call last)",
      "\u001b[0;32m<ipython-input-2-efaac634b910>\u001b[0m in \u001b[0;36m<module>\u001b[0;34m\u001b[0m\n\u001b[1;32m     51\u001b[0m \u001b[0mnames\u001b[0m \u001b[0;34m=\u001b[0m \u001b[0mnp\u001b[0m\u001b[0;34m.\u001b[0m\u001b[0mrepeat\u001b[0m\u001b[0;34m(\u001b[0m\u001b[0mnames\u001b[0m\u001b[0;34m,\u001b[0m\u001b[0;36m10\u001b[0m\u001b[0;34m)\u001b[0m\u001b[0;34m\u001b[0m\u001b[0;34m\u001b[0m\u001b[0m\n\u001b[1;32m     52\u001b[0m \u001b[0mnames\u001b[0m \u001b[0;34m=\u001b[0m \u001b[0mnp\u001b[0m\u001b[0;34m.\u001b[0m\u001b[0mreshape\u001b[0m\u001b[0;34m(\u001b[0m\u001b[0mnames\u001b[0m\u001b[0;34m,\u001b[0m\u001b[0;34m(\u001b[0m\u001b[0;34m-\u001b[0m\u001b[0;36m1\u001b[0m\u001b[0;34m,\u001b[0m\u001b[0;36m1\u001b[0m\u001b[0;34m)\u001b[0m\u001b[0;34m)\u001b[0m\u001b[0;34m\u001b[0m\u001b[0;34m\u001b[0m\u001b[0m\n\u001b[0;32m---> 53\u001b[0;31m \u001b[0mdataset\u001b[0m \u001b[0;34m=\u001b[0m \u001b[0mnp\u001b[0m\u001b[0;34m.\u001b[0m\u001b[0mhstack\u001b[0m\u001b[0;34m(\u001b[0m\u001b[0;34m(\u001b[0m\u001b[0mface_data\u001b[0m\u001b[0;34m,\u001b[0m\u001b[0mnames\u001b[0m\u001b[0;34m)\u001b[0m\u001b[0;34m)\u001b[0m\u001b[0;34m\u001b[0m\u001b[0;34m\u001b[0m\u001b[0m\n\u001b[0m\u001b[1;32m     54\u001b[0m \u001b[0mprint\u001b[0m\u001b[0;34m(\u001b[0m\u001b[0;34m\"dataset shape\"\u001b[0m \u001b[0;34m,\u001b[0m\u001b[0mdataset\u001b[0m\u001b[0;34m.\u001b[0m\u001b[0mshape\u001b[0m\u001b[0;34m)\u001b[0m\u001b[0;34m\u001b[0m\u001b[0;34m\u001b[0m\u001b[0m\n\u001b[1;32m     55\u001b[0m \u001b[0;34m\u001b[0m\u001b[0m\n",
      "\u001b[0;32m<__array_function__ internals>\u001b[0m in \u001b[0;36mhstack\u001b[0;34m(*args, **kwargs)\u001b[0m\n",
      "\u001b[0;32m/opt/anaconda3/lib/python3.7/site-packages/numpy/core/shape_base.py\u001b[0m in \u001b[0;36mhstack\u001b[0;34m(tup)\u001b[0m\n\u001b[1;32m    342\u001b[0m         \u001b[0;32mreturn\u001b[0m \u001b[0m_nx\u001b[0m\u001b[0;34m.\u001b[0m\u001b[0mconcatenate\u001b[0m\u001b[0;34m(\u001b[0m\u001b[0marrs\u001b[0m\u001b[0;34m,\u001b[0m \u001b[0;36m0\u001b[0m\u001b[0;34m)\u001b[0m\u001b[0;34m\u001b[0m\u001b[0;34m\u001b[0m\u001b[0m\n\u001b[1;32m    343\u001b[0m     \u001b[0;32melse\u001b[0m\u001b[0;34m:\u001b[0m\u001b[0;34m\u001b[0m\u001b[0;34m\u001b[0m\u001b[0m\n\u001b[0;32m--> 344\u001b[0;31m         \u001b[0;32mreturn\u001b[0m \u001b[0m_nx\u001b[0m\u001b[0;34m.\u001b[0m\u001b[0mconcatenate\u001b[0m\u001b[0;34m(\u001b[0m\u001b[0marrs\u001b[0m\u001b[0;34m,\u001b[0m \u001b[0;36m1\u001b[0m\u001b[0;34m)\u001b[0m\u001b[0;34m\u001b[0m\u001b[0;34m\u001b[0m\u001b[0m\n\u001b[0m\u001b[1;32m    345\u001b[0m \u001b[0;34m\u001b[0m\u001b[0m\n\u001b[1;32m    346\u001b[0m \u001b[0;34m\u001b[0m\u001b[0m\n",
      "\u001b[0;32m<__array_function__ internals>\u001b[0m in \u001b[0;36mconcatenate\u001b[0;34m(*args, **kwargs)\u001b[0m\n",
      "\u001b[0;31mValueError\u001b[0m: all the input array dimensions for the concatenation axis must match exactly, but along dimension 0, the array at index 0 has size 300 and the array at index 1 has size 30"
     ]
    }
   ],
   "source": [
    "import os\n",
    "import numpy as np\n",
    "import cv2\n",
    "from sklearn.neighbors import KNeighborsClassifier\n",
    "import time\n",
    "\n",
    "from datetime import datetime\n",
    "\n",
    "# Current date time in local system\n",
    "date = datetime.now().date()\n",
    "date = str(date)\n",
    "print(date)\n",
    "currentAdds = []\n",
    "\n",
    "fileName = str(\"presentPeople\"+date+\".txt\")\n",
    "# f = open(fileName, 'w')\n",
    "# f.close\n",
    "\n",
    "try:\n",
    "    with open(fileName) as f:\n",
    "        content = f.readlines()\n",
    "except FileNotFoundError:\n",
    "    content = []\n",
    "\n",
    "\n",
    "\n",
    "content = [x.strip() for x in content]\n",
    "if len(content) == 0:\n",
    "    presenties = []\n",
    "else:\n",
    "    presenties = content[0].split()\n",
    "    presenties = [x.lower() for x in presenties]\n",
    "print(\"All people\",presenties)\n",
    "\n",
    "\n",
    "files = [f for f in os.listdir('dataset') if f.endswith('.npy')]\n",
    "names = [f[:-4] for f in files]\n",
    "\n",
    "face_data = []\n",
    "present = []\n",
    "\n",
    "for filename in files:\n",
    "    data = np.load('dataset/'+filename)\n",
    "#print(data.shape)\n",
    "    face_data.append(data)\n",
    "\n",
    "face_data = np.concatenate(face_data, axis=0)\n",
    "\n",
    "print(face_data.shape)\n",
    "print(type(face_data))\n",
    "names = np.repeat(names,10)\n",
    "names = np.reshape(names,(-1,1))\n",
    "dataset = np.hstack((face_data,names))\n",
    "print(\"dataset shape\" ,dataset.shape)\n",
    "\n",
    "# train\n",
    "knn = KNeighborsClassifier(n_neighbors=5)\n",
    "knn.fit(dataset[:,:-1], dataset[:,-1])\n",
    "\n",
    "capture = cv2.VideoCapture(0)\n",
    "\n",
    "past = \"\"\n",
    "face_cascade = cv2.CascadeClassifier(\"haarcascade_frontalface_default.xml\")\n",
    "\n",
    "while True:\n",
    "    returned , image = capture.read()\n",
    "\n",
    "    if not returned:\n",
    "        continue\n",
    "    \n",
    "    faces = face_cascade.detectMultiScale(image , 1.3, 5)\n",
    "\n",
    "    for face in faces:\n",
    "        x,y,w,h = face\n",
    "\n",
    "        onlyFace = image[y:y+h,x:x+w]\n",
    "        onlyFace = cv2.resize(onlyFace,(100,100))\n",
    "        \n",
    "        # print(onlyFace.shape)\n",
    "        onlyFace = onlyFace.reshape((1,-1))\n",
    "        print(\"only face\", onlyFace.shape)\n",
    "        # print(\"After changing shape\",onlyFace.shape)\n",
    "        prediction = knn.predict(onlyFace)\n",
    "        print(prediction)\n",
    "\n",
    "        # Drawing rectangle and writing name on it\n",
    "        cv2.rectangle(image, (x,y),(x+w,y+h),(255,0,0),2)\n",
    "        cv2.putText(image,prediction[0],(x,y),cv2.FONT_ITALIC,1,(0,255,0),2)\n",
    "        if not past == prediction[0]:\n",
    "            present.append(prediction[0])\n",
    "        past = prediction[0]\n",
    "\n",
    "    cv2.imshow(\"Attendence for \"+date+\" (Press q to Quit)\",image)\n",
    "    key = cv2.waitKey(1)\n",
    "    if key & 0xFF == ord('q'):\n",
    "        break\n",
    "print(\"pres\" ,present)\n",
    "\n",
    "f=open(fileName, \"a+\")\n",
    "\n",
    "for value in present:\n",
    "    if not value.lower() in presenties:\n",
    "        if not value.lower() in currentAdds:\t\n",
    "            f.write(value.lower()+ \" \")\n",
    "            currentAdds.append(value.lower())\n",
    "f.close()\n",
    "\n",
    "\n",
    "\n",
    "capture.release()\n",
    "\n",
    "cv2.destroyAllWindows()\n",
    "\n",
    "\n",
    "\n",
    "\n",
    "\n",
    "\n"
   ]
  },
  {
   "cell_type": "code",
   "execution_count": 1,
   "metadata": {},
   "outputs": [
    {
     "name": "stdout",
     "output_type": "stream",
     "text": [
      "2020-03-12\n",
      "All people []\n",
      "(300, 30000)\n",
      "<class 'numpy.ndarray'>\n",
      "dataset shape (300, 30000)\n"
     ]
    }
   ],
   "source": [
    "import os\n",
    "import numpy as np\n",
    "import cv2\n",
    "import time\n",
    "\n",
    "from datetime import datetime\n",
    "\n",
    "# Current date time in local system\n",
    "date = datetime.now().date()\n",
    "date = str(date)\n",
    "print(date)\n",
    "currentAdds = []\n",
    "\n",
    "fileName = str(\"presentPeople\"+date+\".txt\")\n",
    "# f = open(fileName, 'w')\n",
    "# f.close\n",
    "\n",
    "try:\n",
    "    with open(fileName) as f:\n",
    "        content = f.readlines()\n",
    "except FileNotFoundError:\n",
    "    content = []\n",
    "\n",
    "\n",
    "\n",
    "content = [x.strip() for x in content]\n",
    "if len(content) == 0:\n",
    "    presenties = []\n",
    "else:\n",
    "    presenties = content[0].split()\n",
    "    presenties = [x.lower() for x in presenties]\n",
    "print(\"All people\",presenties)\n",
    "\n",
    "\n",
    "files = [f for f in os.listdir('dataset') if f.endswith('.npy')]\n",
    "names = [f[:-4] for f in files]\n",
    "\n",
    "face_data = []\n",
    "present = []\n",
    "\n",
    "for filename in files:\n",
    "    data = np.load('dataset/'+filename)\n",
    "#print(data.shape)\n",
    "    face_data.append(data)\n",
    "\n",
    "face_data = np.concatenate(face_data, axis=0)\n",
    "\n",
    "print(face_data.shape)\n",
    "print(type(face_data))\n",
    "# names = np.repeat(names,100)\n",
    "# names = np.reshape(names,(-1,1))\n",
    "# dataset = np.hstack((face_data,names))\n",
    "print(\"dataset shape\" ,face_data.shape)\n"
   ]
  },
  {
   "cell_type": "code",
   "execution_count": 5,
   "metadata": {},
   "outputs": [
    {
     "data": {
      "text/plain": [
       "3"
      ]
     },
     "execution_count": 5,
     "metadata": {},
     "output_type": "execute_result"
    }
   ],
   "source": [
    "len(names)"
   ]
  },
  {
   "cell_type": "code",
   "execution_count": 6,
   "metadata": {},
   "outputs": [],
   "source": [
    "from keras.models import Sequential\n",
    "from keras.layers import Convolution2D\n",
    "from keras.layers import MaxPooling2D\n",
    "from keras.layers import Flatten\n",
    "from keras.layers import Dense\n",
    "from keras.preprocessing.image import ImageDataGenerator\n",
    "\n",
    "classifier = Sequential()\n",
    "\n",
    "classifier.add(Convolution2D(32 ,(3 ,3) ,input_shape=(100 ,100 ,3) ,activation = 'relu'))\n",
    "classifier.add(MaxPooling2D(pool_size=(2,2)))\n",
    "\n",
    "classifier.add(Convolution2D(32 ,(3 ,3)  ,activation = 'relu'))\n",
    "classifier.add(MaxPooling2D(pool_size=(2,2)))\n",
    "\n",
    "classifier.add(Flatten())\n",
    "\n",
    "classifier.add(Dense(units = 128, activation = 'relu' ))\n",
    "classifier.add(Dense(units = len(names), activation = 'softmax' ))\n",
    "\n",
    "classifier.compile(optimizer = 'adam', loss = 'categorical_crossentropy', metrics = ['accuracy'])\n",
    "\n",
    "\n",
    "\n"
   ]
  },
  {
   "cell_type": "code",
   "execution_count": 7,
   "metadata": {},
   "outputs": [
    {
     "name": "stdout",
     "output_type": "stream",
     "text": [
      "Model: \"sequential_2\"\n",
      "_________________________________________________________________\n",
      "Layer (type)                 Output Shape              Param #   \n",
      "=================================================================\n",
      "conv2d_3 (Conv2D)            (None, 98, 98, 32)        896       \n",
      "_________________________________________________________________\n",
      "max_pooling2d_3 (MaxPooling2 (None, 49, 49, 32)        0         \n",
      "_________________________________________________________________\n",
      "conv2d_4 (Conv2D)            (None, 47, 47, 32)        9248      \n",
      "_________________________________________________________________\n",
      "max_pooling2d_4 (MaxPooling2 (None, 23, 23, 32)        0         \n",
      "_________________________________________________________________\n",
      "flatten_2 (Flatten)          (None, 16928)             0         \n",
      "_________________________________________________________________\n",
      "dense_3 (Dense)              (None, 128)               2166912   \n",
      "_________________________________________________________________\n",
      "dense_4 (Dense)              (None, 3)                 387       \n",
      "=================================================================\n",
      "Total params: 2,177,443\n",
      "Trainable params: 2,177,443\n",
      "Non-trainable params: 0\n",
      "_________________________________________________________________\n"
     ]
    }
   ],
   "source": [
    "classifier.summary()"
   ]
  },
  {
   "cell_type": "code",
   "execution_count": 8,
   "metadata": {},
   "outputs": [],
   "source": [
    "classifier.load_weights('model.h5')"
   ]
  },
  {
   "cell_type": "code",
   "execution_count": 7,
   "metadata": {},
   "outputs": [
    {
     "name": "stdout",
     "output_type": "stream",
     "text": [
      "(100, 100, 3)\n"
     ]
    },
    {
     "ename": "NameError",
     "evalue": "name 'prediction' is not defined",
     "output_type": "error",
     "traceback": [
      "\u001b[0;31m---------------------------------------------------------------------------\u001b[0m",
      "\u001b[0;31mNameError\u001b[0m                                 Traceback (most recent call last)",
      "\u001b[0;32m<ipython-input-7-9544b64ab076>\u001b[0m in \u001b[0;36m<module>\u001b[0;34m\u001b[0m\n\u001b[1;32m     26\u001b[0m         \u001b[0;31m# Drawing rectangle and writing name on it\u001b[0m\u001b[0;34m\u001b[0m\u001b[0;34m\u001b[0m\u001b[0;34m\u001b[0m\u001b[0m\n\u001b[1;32m     27\u001b[0m         \u001b[0mcv2\u001b[0m\u001b[0;34m.\u001b[0m\u001b[0mrectangle\u001b[0m\u001b[0;34m(\u001b[0m\u001b[0mimage\u001b[0m\u001b[0;34m,\u001b[0m \u001b[0;34m(\u001b[0m\u001b[0mx\u001b[0m\u001b[0;34m,\u001b[0m\u001b[0my\u001b[0m\u001b[0;34m)\u001b[0m\u001b[0;34m,\u001b[0m\u001b[0;34m(\u001b[0m\u001b[0mx\u001b[0m\u001b[0;34m+\u001b[0m\u001b[0mw\u001b[0m\u001b[0;34m,\u001b[0m\u001b[0my\u001b[0m\u001b[0;34m+\u001b[0m\u001b[0mh\u001b[0m\u001b[0;34m)\u001b[0m\u001b[0;34m,\u001b[0m\u001b[0;34m(\u001b[0m\u001b[0;36m255\u001b[0m\u001b[0;34m,\u001b[0m\u001b[0;36m0\u001b[0m\u001b[0;34m,\u001b[0m\u001b[0;36m0\u001b[0m\u001b[0;34m)\u001b[0m\u001b[0;34m,\u001b[0m\u001b[0;36m2\u001b[0m\u001b[0;34m)\u001b[0m\u001b[0;34m\u001b[0m\u001b[0;34m\u001b[0m\u001b[0m\n\u001b[0;32m---> 28\u001b[0;31m         \u001b[0mcv2\u001b[0m\u001b[0;34m.\u001b[0m\u001b[0mputText\u001b[0m\u001b[0;34m(\u001b[0m\u001b[0mimage\u001b[0m\u001b[0;34m,\u001b[0m\u001b[0mprediction\u001b[0m\u001b[0;34m[\u001b[0m\u001b[0;36m0\u001b[0m\u001b[0;34m]\u001b[0m\u001b[0;34m,\u001b[0m\u001b[0;34m(\u001b[0m\u001b[0mx\u001b[0m\u001b[0;34m,\u001b[0m\u001b[0my\u001b[0m\u001b[0;34m)\u001b[0m\u001b[0;34m,\u001b[0m\u001b[0mcv2\u001b[0m\u001b[0;34m.\u001b[0m\u001b[0mFONT_ITALIC\u001b[0m\u001b[0;34m,\u001b[0m\u001b[0;36m1\u001b[0m\u001b[0;34m,\u001b[0m\u001b[0;34m(\u001b[0m\u001b[0;36m0\u001b[0m\u001b[0;34m,\u001b[0m\u001b[0;36m255\u001b[0m\u001b[0;34m,\u001b[0m\u001b[0;36m0\u001b[0m\u001b[0;34m)\u001b[0m\u001b[0;34m,\u001b[0m\u001b[0;36m2\u001b[0m\u001b[0;34m)\u001b[0m\u001b[0;34m\u001b[0m\u001b[0;34m\u001b[0m\u001b[0m\n\u001b[0m\u001b[1;32m     29\u001b[0m \u001b[0;31m#         if not past == prediction[0]:\u001b[0m\u001b[0;34m\u001b[0m\u001b[0;34m\u001b[0m\u001b[0;34m\u001b[0m\u001b[0m\n\u001b[1;32m     30\u001b[0m \u001b[0;31m#             present.append(prediction[0])\u001b[0m\u001b[0;34m\u001b[0m\u001b[0;34m\u001b[0m\u001b[0;34m\u001b[0m\u001b[0m\n",
      "\u001b[0;31mNameError\u001b[0m: name 'prediction' is not defined"
     ]
    }
   ],
   "source": [
    "capture = cv2.VideoCapture(0)\n",
    "\n",
    "past = \"\"\n",
    "face_cascade = cv2.CascadeClassifier(\"haarcascade_frontalface_default.xml\")\n",
    "\n",
    "while True:\n",
    "    returned , image = capture.read()\n",
    "\n",
    "    if not returned:\n",
    "        continue\n",
    "    \n",
    "    faces = face_cascade.detectMultiScale(image , 1.3, 5)\n",
    "\n",
    "    for face in faces:\n",
    "        x,y,w,h = face\n",
    "\n",
    "        onlyFace = image[y:y+h,x:x+w]\n",
    "        onlyFace = cv2.resize(onlyFace,(100,100))\n",
    "        \n",
    "        print(onlyFace.shape)\n",
    "        \n",
    "#         print(\"After changing shape\",onlyFace.shape)\n",
    "#         prediction = classification.predict([[onlyFace]])\n",
    "#         print(prediction)\n",
    "\n",
    "        # Drawing rectangle and writing name on it\n",
    "        cv2.rectangle(image, (x,y),(x+w,y+h),(255,0,0),2)\n",
    "        cv2.putText(image,prediction[0],(x,y),cv2.FONT_ITALIC,1,(0,255,0),2)\n",
    "#         if not past == prediction[0]:\n",
    "#             present.append(prediction[0])\n",
    "#         past = prediction[0]\n",
    "\n",
    "    cv2.imshow(\"Attendence for \"+date+\" (Press q to Quit)\",image)\n",
    "    key = cv2.waitKey(1)\n",
    "    if key & 0xFF == ord('q'):\n",
    "        break\n",
    "# print(\"pres\" ,present)\n",
    "\n",
    "# f=open(fileName, \"a+\")\n",
    "\n",
    "# for value in present:\n",
    "#     if not value.lower() in presenties:\n",
    "#         if not value.lower() in currentAdds:\t\n",
    "#             f.write(value.lower()+ \" \")\n",
    "#             currentAdds.append(value.lower())\n",
    "f.close()\n",
    "\n",
    "\n",
    "\n",
    "capture.release()\n",
    "\n",
    "cv2.destroyAllWindows()\n",
    "\n"
   ]
  },
  {
   "cell_type": "code",
   "execution_count": 1,
   "metadata": {},
   "outputs": [
    {
     "ename": "NameError",
     "evalue": "name 'onlyFace' is not defined",
     "output_type": "error",
     "traceback": [
      "\u001b[0;31m---------------------------------------------------------------------------\u001b[0m",
      "\u001b[0;31mNameError\u001b[0m                                 Traceback (most recent call last)",
      "\u001b[0;32m<ipython-input-1-42ad327b160d>\u001b[0m in \u001b[0;36m<module>\u001b[0;34m\u001b[0m\n\u001b[0;32m----> 1\u001b[0;31m \u001b[0monlyFace\u001b[0m\u001b[0;34m\u001b[0m\u001b[0;34m\u001b[0m\u001b[0m\n\u001b[0m",
      "\u001b[0;31mNameError\u001b[0m: name 'onlyFace' is not defined"
     ]
    }
   ],
   "source": [
    "onlyFace"
   ]
  },
  {
   "cell_type": "code",
   "execution_count": null,
   "metadata": {},
   "outputs": [
    {
     "name": "stdout",
     "output_type": "stream",
     "text": [
      "only face (100, 100, 3)\n",
      "only face (100, 100, 3)\n",
      "only face (100, 100, 3)\n",
      "only face (100, 100, 3)\n",
      "only face (100, 100, 3)\n",
      "only face (100, 100, 3)\n",
      "only face (100, 100, 3)\n",
      "only face (100, 100, 3)\n",
      "only face (100, 100, 3)\n",
      "only face (100, 100, 3)\n",
      "only face (100, 100, 3)\n",
      "only face (100, 100, 3)\n",
      "only face (100, 100, 3)\n",
      "only face (100, 100, 3)\n",
      "only face (100, 100, 3)\n",
      "only face (100, 100, 3)\n",
      "only face (100, 100, 3)\n",
      "only face (100, 100, 3)\n",
      "only face (100, 100, 3)\n",
      "only face (100, 100, 3)\n",
      "only face (100, 100, 3)\n",
      "only face (100, 100, 3)\n",
      "only face (100, 100, 3)\n",
      "only face (100, 100, 3)\n",
      "only face (100, 100, 3)\n",
      "only face (100, 100, 3)\n",
      "only face (100, 100, 3)\n",
      "only face (100, 100, 3)\n",
      "only face (100, 100, 3)\n",
      "only face (100, 100, 3)\n",
      "only face (100, 100, 3)\n",
      "only face (100, 100, 3)\n",
      "only face (100, 100, 3)\n",
      "only face (100, 100, 3)\n",
      "only face (100, 100, 3)\n",
      "only face (100, 100, 3)\n",
      "only face (100, 100, 3)\n",
      "only face (100, 100, 3)\n",
      "only face (100, 100, 3)\n",
      "only face (100, 100, 3)\n",
      "only face (100, 100, 3)\n",
      "only face (100, 100, 3)\n",
      "only face (100, 100, 3)\n",
      "only face (100, 100, 3)\n",
      "only face (100, 100, 3)\n",
      "only face (100, 100, 3)\n",
      "only face (100, 100, 3)\n",
      "only face (100, 100, 3)\n",
      "only face (100, 100, 3)\n",
      "only face (100, 100, 3)\n",
      "only face (100, 100, 3)\n",
      "only face (100, 100, 3)\n",
      "only face (100, 100, 3)\n",
      "only face (100, 100, 3)\n",
      "only face (100, 100, 3)\n",
      "only face (100, 100, 3)\n",
      "only face (100, 100, 3)\n",
      "only face (100, 100, 3)\n",
      "only face (100, 100, 3)\n",
      "only face (100, 100, 3)\n",
      "only face (100, 100, 3)\n",
      "only face (100, 100, 3)\n",
      "only face (100, 100, 3)\n",
      "only face (100, 100, 3)\n",
      "only face (100, 100, 3)\n",
      "only face (100, 100, 3)\n",
      "only face (100, 100, 3)\n",
      "only face (100, 100, 3)\n",
      "only face (100, 100, 3)\n",
      "only face (100, 100, 3)\n",
      "only face (100, 100, 3)\n",
      "only face (100, 100, 3)\n",
      "only face (100, 100, 3)\n",
      "only face (100, 100, 3)\n",
      "only face (100, 100, 3)\n",
      "only face (100, 100, 3)\n",
      "only face (100, 100, 3)\n",
      "only face (100, 100, 3)\n",
      "only face (100, 100, 3)\n"
     ]
    }
   ],
   "source": [
    "capture = cv2.VideoCapture(0)\n",
    "\n",
    "face_cascade = cv2.CascadeClassifier(\"haarcascade_frontalface_default.xml\")\n",
    "\n",
    "while True:\n",
    "    returned , image = capture.read()\n",
    "\n",
    "    if not returned:\n",
    "        continue\n",
    "    \n",
    "    faces = face_cascade.detectMultiScale(image , 1.3, 5)\n",
    "\n",
    "    for face in faces:\n",
    "        x,y,w,h = face\n",
    "\n",
    "        onlyFace = image[y:y+h,x:x+w]\n",
    "        onlyFace = cv2.resize(onlyFace,(100,100))\n",
    "        # print(onlyFace.shape)\n",
    "        print(\"only face\", onlyFace.shape)\n",
    "\n",
    "        # print(\"After changing shape\",onlyFace.shape)\n",
    "        prediction = classifier.predict([[onlyFace]])\n",
    "#         print(prediction)\n",
    "\n",
    "        # Drawing rectangle and writing name on it\n",
    "        cv2.rectangle(image, (x,y),(x+w,y+h),(0,255,0),2)\n",
    "        cv2.putText(image,files[np.argmax(prediction)],(x,y),cv2.FONT_ITALIC,1,(255,255,255),2)\n",
    "\n",
    "    cv2.imshow(\"Image Recognition\",image)\n",
    "\n",
    "    key = cv2.waitKey(1)\n",
    "    if key & 0xFF == ord('q'):\n",
    "        break\n",
    "cap.release()\n",
    "cv2.destroyAllWindows()\n",
    "\n",
    "\n",
    "\n"
   ]
  },
  {
   "cell_type": "code",
   "execution_count": 15,
   "metadata": {},
   "outputs": [
    {
     "data": {
      "text/plain": [
       "['Anshul.npy', 'Pranjal.npy', 'Ashish.npy', 'Pranay.npy']"
      ]
     },
     "execution_count": 15,
     "metadata": {},
     "output_type": "execute_result"
    }
   ],
   "source": [
    "files"
   ]
  },
  {
   "cell_type": "code",
   "execution_count": 9,
   "metadata": {},
   "outputs": [
    {
     "ename": "NameError",
     "evalue": "name 'image' is not defined",
     "output_type": "error",
     "traceback": [
      "\u001b[0;31m---------------------------------------------------------------------------\u001b[0m",
      "\u001b[0;31mNameError\u001b[0m                                 Traceback (most recent call last)",
      "\u001b[0;32m<ipython-input-9-c3b85fdc11e1>\u001b[0m in \u001b[0;36m<module>\u001b[0;34m\u001b[0m\n\u001b[1;32m      1\u001b[0m \u001b[0;32mimport\u001b[0m \u001b[0mmatplotlib\u001b[0m\u001b[0;34m.\u001b[0m\u001b[0mpyplot\u001b[0m \u001b[0;32mas\u001b[0m \u001b[0mplt\u001b[0m\u001b[0;34m\u001b[0m\u001b[0;34m\u001b[0m\u001b[0m\n\u001b[0;32m----> 2\u001b[0;31m \u001b[0mplt\u001b[0m\u001b[0;34m.\u001b[0m\u001b[0mimshow\u001b[0m\u001b[0;34m(\u001b[0m\u001b[0mimage\u001b[0m\u001b[0;34m)\u001b[0m\u001b[0;34m\u001b[0m\u001b[0;34m\u001b[0m\u001b[0m\n\u001b[0m\u001b[1;32m      3\u001b[0m \u001b[0mplt\u001b[0m\u001b[0;34m.\u001b[0m\u001b[0mshow\u001b[0m\u001b[0;34m(\u001b[0m\u001b[0;34m)\u001b[0m\u001b[0;34m\u001b[0m\u001b[0;34m\u001b[0m\u001b[0m\n",
      "\u001b[0;31mNameError\u001b[0m: name 'image' is not defined"
     ]
    }
   ],
   "source": [
    "import matplotlib.pyplot as plt\n",
    "plt.imshow(image)\n",
    "plt.show()"
   ]
  },
  {
   "cell_type": "code",
   "execution_count": 8,
   "metadata": {},
   "outputs": [],
   "source": [
    "onlyFace = np.reshape(onlyFace,(100,100,3))"
   ]
  },
  {
   "cell_type": "code",
   "execution_count": 9,
   "metadata": {},
   "outputs": [],
   "source": [
    "gray = cv2.cvtColor(onlyFace, cv2.COLOR_BGR2RGB)"
   ]
  },
  {
   "cell_type": "code",
   "execution_count": 10,
   "metadata": {},
   "outputs": [],
   "source": [
    "import matplotlib.pyplot as plt"
   ]
  },
  {
   "cell_type": "code",
   "execution_count": 11,
   "metadata": {},
   "outputs": [
    {
     "data": {
      "image/png": "[encoded data removed]",
      "text/plain": [
       "<Figure size 432x288 with 1 Axes>"
      ]
     },
     "metadata": {
      "needs_background": "light"
     },
     "output_type": "display_data"
    },
    {
     "data": {
      "image/png": "[encoded data removed]",
      "text/plain": [
       "<Figure size 432x288 with 1 Axes>"
      ]
     },
     "metadata": {
      "needs_background": "light"
     },
     "output_type": "display_data"
    }
   ],
   "source": [
    "plt.imshow(gray)\n",
    "plt.show()\n",
    "plt.imshow(onlyFace)\n",
    "plt.show()"
   ]
  },
  {
   "cell_type": "code",
   "execution_count": 72,
   "metadata": {},
   "outputs": [
    {
     "data": {
      "text/plain": [
       "(100, 100, 3)"
      ]
     },
     "execution_count": 72,
     "metadata": {},
     "output_type": "execute_result"
    }
   ],
   "source": [
    "gray.shape"
   ]
  },
  {
   "cell_type": "code",
   "execution_count": 18,
   "metadata": {},
   "outputs": [
    {
     "data": {
      "text/plain": [
       "0"
      ]
     },
     "execution_count": 18,
     "metadata": {},
     "output_type": "execute_result"
    }
   ],
   "source": [
    "np.argmax(classifier.predict([[onlyFace]]))"
   ]
  },
  {
   "cell_type": "code",
   "execution_count": 15,
   "metadata": {},
   "outputs": [
    {
     "data": {
      "text/plain": [
       "['Anshul.npy', 'Pranjal.npy', 'Pranay.npy']"
      ]
     },
     "execution_count": 15,
     "metadata": {},
     "output_type": "execute_result"
    }
   ],
   "source": [
    "files"
   ]
  },
  {
   "cell_type": "code",
   "execution_count": 17,
   "metadata": {},
   "outputs": [
    {
     "data": {
      "text/plain": [
       "(1, 30000)"
      ]
     },
     "execution_count": 17,
     "metadata": {},
     "output_type": "execute_result"
    }
   ],
   "source": [
    "onlyFace.shape"
   ]
  },
  {
   "cell_type": "code",
   "execution_count": 12,
   "metadata": {},
   "outputs": [
    {
     "data": {
      "text/plain": [
       "(30000,)"
      ]
     },
     "execution_count": 12,
     "metadata": {},
     "output_type": "execute_result"
    }
   ],
   "source": [
    "face_data[i].shape"
   ]
  },
  {
   "cell_type": "code",
   "execution_count": 22,
   "metadata": {},
   "outputs": [
    {
     "data": {
      "image/png": "[encoded data removed]",
      "text/plain": [
       "<Figure size 432x288 with 1 Axes>"
      ]
     },
     "metadata": {
      "needs_background": "light"
     },
     "output_type": "display_data"
    },
    {
     "data": {
      "text/plain": [
       "array([[0., 1., 0.]], dtype=float32)"
      ]
     },
     "execution_count": 22,
     "metadata": {},
     "output_type": "execute_result"
    }
   ],
   "source": [
    "i = 110\n",
    "im = np.reshape(face_data[i],(100,100,3))\n",
    "plt.imshow(im)\n",
    "plt.show()\n",
    "classifier.predict([[im]])"
   ]
  },
  {
   "cell_type": "code",
   "execution_count": 1,
   "metadata": {},
   "outputs": [
    {
     "name": "stdout",
     "output_type": "stream",
     "text": [
      "2020-03-12\n",
      "All people []\n",
      "(300, 30000)\n",
      "<class 'numpy.ndarray'>\n"
     ]
    },
    {
     "name": "stderr",
     "output_type": "stream",
     "text": [
      "Using Theano backend.\n"
     ]
    },
    {
     "name": "stdout",
     "output_type": "stream",
     "text": [
      "only face (100, 100, 3)\n",
      "[[1. 0. 0.]]\n"
     ]
    },
    {
     "ename": "TypeError",
     "evalue": "only integer scalar arrays can be converted to a scalar index",
     "output_type": "error",
     "traceback": [
      "\u001b[0;31m---------------------------------------------------------------------------\u001b[0m",
      "\u001b[0;31mTypeError\u001b[0m                                 Traceback (most recent call last)",
      "\u001b[0;32m<ipython-input-1-cc9247cfb280>\u001b[0m in \u001b[0;36m<module>\u001b[0;34m\u001b[0m\n\u001b[1;32m    116\u001b[0m                 \u001b[0;31m# Drawing rectangle and writing name on it\u001b[0m\u001b[0;34m\u001b[0m\u001b[0;34m\u001b[0m\u001b[0;34m\u001b[0m\u001b[0m\n\u001b[1;32m    117\u001b[0m                 \u001b[0mcv2\u001b[0m\u001b[0;34m.\u001b[0m\u001b[0mrectangle\u001b[0m\u001b[0;34m(\u001b[0m\u001b[0mimage\u001b[0m\u001b[0;34m,\u001b[0m \u001b[0;34m(\u001b[0m\u001b[0mx\u001b[0m\u001b[0;34m,\u001b[0m\u001b[0my\u001b[0m\u001b[0;34m)\u001b[0m\u001b[0;34m,\u001b[0m\u001b[0;34m(\u001b[0m\u001b[0mx\u001b[0m\u001b[0;34m+\u001b[0m\u001b[0mw\u001b[0m\u001b[0;34m,\u001b[0m\u001b[0my\u001b[0m\u001b[0;34m+\u001b[0m\u001b[0mh\u001b[0m\u001b[0;34m)\u001b[0m\u001b[0;34m,\u001b[0m\u001b[0;34m(\u001b[0m\u001b[0;36m255\u001b[0m\u001b[0;34m,\u001b[0m\u001b[0;36m0\u001b[0m\u001b[0;34m,\u001b[0m\u001b[0;36m0\u001b[0m\u001b[0;34m)\u001b[0m\u001b[0;34m,\u001b[0m\u001b[0;36m2\u001b[0m\u001b[0;34m)\u001b[0m\u001b[0;34m\u001b[0m\u001b[0;34m\u001b[0m\u001b[0m\n\u001b[0;32m--> 118\u001b[0;31m                 \u001b[0mcv2\u001b[0m\u001b[0;34m.\u001b[0m\u001b[0mputText\u001b[0m\u001b[0;34m(\u001b[0m\u001b[0mimage\u001b[0m\u001b[0;34m,\u001b[0m\u001b[0mnames\u001b[0m\u001b[0;34m[\u001b[0m\u001b[0mprediction\u001b[0m\u001b[0;34m]\u001b[0m\u001b[0;34m,\u001b[0m\u001b[0;34m(\u001b[0m\u001b[0mx\u001b[0m\u001b[0;34m,\u001b[0m\u001b[0my\u001b[0m\u001b[0;34m)\u001b[0m\u001b[0;34m,\u001b[0m\u001b[0mcv2\u001b[0m\u001b[0;34m.\u001b[0m\u001b[0mFONT_ITALIC\u001b[0m\u001b[0;34m,\u001b[0m\u001b[0;36m1\u001b[0m\u001b[0;34m,\u001b[0m\u001b[0;34m(\u001b[0m\u001b[0;36m0\u001b[0m\u001b[0;34m,\u001b[0m\u001b[0;36m255\u001b[0m\u001b[0;34m,\u001b[0m\u001b[0;36m0\u001b[0m\u001b[0;34m)\u001b[0m\u001b[0;34m,\u001b[0m\u001b[0;36m2\u001b[0m\u001b[0;34m)\u001b[0m\u001b[0;34m\u001b[0m\u001b[0;34m\u001b[0m\u001b[0m\n\u001b[0m\u001b[1;32m    119\u001b[0m                 \u001b[0;32mif\u001b[0m \u001b[0;32mnot\u001b[0m \u001b[0mpast\u001b[0m \u001b[0;34m==\u001b[0m \u001b[0mnames\u001b[0m\u001b[0;34m[\u001b[0m\u001b[0mprediction\u001b[0m\u001b[0;34m]\u001b[0m\u001b[0;34m:\u001b[0m\u001b[0;34m\u001b[0m\u001b[0;34m\u001b[0m\u001b[0m\n\u001b[1;32m    120\u001b[0m                         \u001b[0mpresent\u001b[0m\u001b[0;34m.\u001b[0m\u001b[0mappend\u001b[0m\u001b[0;34m(\u001b[0m\u001b[0mnames\u001b[0m\u001b[0;34m[\u001b[0m\u001b[0mprediction\u001b[0m\u001b[0;34m]\u001b[0m\u001b[0;34m)\u001b[0m\u001b[0;34m\u001b[0m\u001b[0;34m\u001b[0m\u001b[0m\n",
      "\u001b[0;31mTypeError\u001b[0m: only integer scalar arrays can be converted to a scalar index"
     ]
    }
   ],
   "source": [
    "import os\n",
    "import numpy as np\n",
    "import cv2\n",
    "from sklearn.neighbors import KNeighborsClassifier\n",
    "import time\n",
    "\n",
    "from datetime import datetime\n",
    "\n",
    "# Current date time in local system\n",
    "date = datetime.now().date()\n",
    "date = str(date)\n",
    "print(date)\n",
    "currentAdds = []\n",
    "\n",
    "fileName = str(\"presentPeople\"+date+\".txt\")\n",
    "\n",
    "\n",
    "try:\n",
    "\twith open(fileName) as f:\n",
    "\t\tcontent = f.readlines()\n",
    "except FileNotFoundError:\n",
    "\tcontent = []\n",
    "\n",
    "\n",
    "\n",
    "content = [x.strip() for x in content]\n",
    "if len(content) == 0:\n",
    "\tpresenties = []\n",
    "else:\n",
    "\tpresenties = content[0].split()\n",
    "\tpresenties = [x.lower() for x in presenties]\n",
    "print(\"All people\",presenties)\n",
    "\n",
    "\n",
    "files = [f for f in os.listdir('dataset') if f.endswith('.npy')]\n",
    "names = [f[:-4] for f in files]\n",
    "\n",
    "face_data = []\n",
    "present = []\n",
    "\n",
    "for filename in files:\n",
    "\tdata = np.load('dataset/'+filename)\n",
    "\tface_data.append(data)\n",
    "\n",
    "face_data = np.concatenate(face_data, axis=0)\n",
    "\n",
    "print(face_data.shape)\n",
    "print(type(face_data))\n",
    "face_data = np.reshape(face_data,(face_data.shape[0],100,100,3))\n",
    "\n",
    "\n",
    "# model\n",
    "from keras.models import Sequential\n",
    "from keras.layers import Convolution2D\n",
    "from keras.layers import MaxPooling2D\n",
    "from keras.layers import Flatten\n",
    "from keras.layers import Dense\n",
    "from keras.preprocessing.image import ImageDataGenerator\n",
    "\n",
    "classifier = Sequential()\n",
    "\n",
    "classifier.add(Convolution2D(32 ,(3 ,3) ,input_shape=(100 ,100 ,3) ,activation = 'relu'))\n",
    "classifier.add(MaxPooling2D(pool_size=(2,2)))\n",
    "\n",
    "classifier.add(Convolution2D(32 ,(3 ,3)  ,activation = 'relu'))\n",
    "classifier.add(MaxPooling2D(pool_size=(2,2)))\n",
    "\n",
    "classifier.add(Flatten())\n",
    "\n",
    "classifier.add(Dense(units = 128, activation = 'relu' ))\n",
    "classifier.add(Dense(units = len(names), activation = 'softmax' ))\n",
    "\n",
    "classifier.compile(optimizer = 'adam', loss = 'categorical_crossentropy', metrics = ['accuracy'])\n",
    "\n",
    "classifier.load_weights('model.h5')\n",
    "\n",
    "\n",
    "\n",
    "\n",
    "# names = np.repeat(names,10)\n",
    "# names = np.reshape(names,(-1,1))\n",
    "# dataset = np.hstack((face_data,names))\n",
    "# print(\"dataset shape\" ,dataset.shape)\n",
    "\n",
    "# train\n",
    "# knn = KNeighborsClassifier(n_neighbors=5)\n",
    "# knn.fit(dataset[:,:-1], dataset[:,-1])\n",
    "\n",
    "capture = cv2.VideoCapture(0)\n",
    "\n",
    "past = \"\"\n",
    "face_cascade = cv2.CascadeClassifier(\"haarcascade_frontalface_default.xml\")\n",
    "\n",
    "while True:\n",
    "\treturned , image = capture.read()\n",
    "\n",
    "\tif not returned:\n",
    "\t\tcontinue\n",
    "\t\n",
    "\tfaces = face_cascade.detectMultiScale(image , 1.3, 5)\n",
    "\n",
    "\tfor face in faces:\n",
    "\t\tx,y,w,h = face\n",
    "\n",
    "\t\tonlyFace = image[y:y+h,x:x+w]\n",
    "\t\tonlyFace = cv2.resize(onlyFace,(100,100))\n",
    "\t\t\n",
    "\t\t# print(onlyFace.shape)\n",
    "\t\tonlyFace = np.reshape(onlyFace,(100,100,3))\n",
    "\t\tprint(\"only face\", onlyFace.shape)\n",
    "        \n",
    "\t\t# print(\"After changing shape\",onlyFace.shape)\n",
    "\t\tprediction = classifier.predict([[onlyFace]])\n",
    "\t\tprint(prediction)\n",
    "\n",
    "\t\t# Drawing rectangle and writing name on it\n",
    "\t\tcv2.rectangle(image, (x,y),(x+w,y+h),(255,0,0),2)\n",
    "\t\tcv2.putText(image,names[np.argmax(prediction)],(x,y),cv2.FONT_ITALIC,1,(0,255,0),2)\n",
    "\t\tif not past == names[np.argmax(prediction)]:\n",
    "\t\t\tpresent.append(names[np.argmax(prediction)])\n",
    "\t\tpast = names[np.argmax(prediction)]\n",
    "\n",
    "\tcv2.imshow(\"Attendence for \"+date+\" (Press q to Quit)\",image)\n",
    "\tkey = cv2.waitKey(1)\n",
    "\tif key & 0xFF == ord('q'):\n",
    "\t\tbreak\n",
    "print(\"pres\" ,present)\n",
    "\n",
    "f=open(fileName, \"a+\")\n",
    "\n",
    "for value in present:\n",
    "\tif not value.lower() in presenties:\n",
    "\t\tif not value.lower() in currentAdds:\t\n",
    "\t\t\tf.write(value.lower()+ \" \")\n",
    "\t\t\tcurrentAdds.append(value.lower())\n",
    "f.close()\n",
    "\n",
    "\n",
    "\n",
    "capture.release()\n",
    "\n",
    "cv2.destroyAllWindows()\n",
    "\n",
    "\n",
    "\n",
    "\n",
    "\n",
    "\n"
   ]
  },
  {
   "cell_type": "code",
   "execution_count": 37,
   "metadata": {},
   "outputs": [
    {
     "data": {
      "text/plain": [
       "(300, 100, 100, 3)"
      ]
     },
     "execution_count": 37,
     "metadata": {},
     "output_type": "execute_result"
    }
   ],
   "source": [
    "face_data.shape"
   ]
  },
  {
   "cell_type": "code",
   "execution_count": 2,
   "metadata": {},
   "outputs": [
    {
     "data": {
      "text/plain": [
       "['Anshul', 'Ashish', 'Pranay']"
      ]
     },
     "execution_count": 2,
     "metadata": {},
     "output_type": "execute_result"
    }
   ],
   "source": [
    "names"
   ]
  },
  {
   "cell_type": "code",
   "execution_count": null,
   "metadata": {},
   "outputs": [],
   "source": []
  }
 ],
 "metadata": {
  "kernelspec": {
   "display_name": "Python 3",
   "language": "python",
   "name": "python3"
  },
  "language_info": {
   "codemirror_mode": {
    "name": "ipython",
    "version": 3
   },
   "file_extension": ".py",
   "mimetype": "text/x-python",
   "name": "python",
   "nbconvert_exporter": "python",
   "pygments_lexer": "ipython3",
   "version": "3.7.4"
  }
 },
 "nbformat": 4,
 "nbformat_minor": 2
}
